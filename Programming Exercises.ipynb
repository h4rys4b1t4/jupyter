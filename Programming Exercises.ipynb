{
 "cells": [
  {
   "cell_type": "markdown",
   "metadata": {},
   "source": [
    "Area of a Pentagon"
   ]
  },
  {
   "cell_type": "code",
   "execution_count": 6,
   "metadata": {},
   "outputs": [
    {
     "name": "stdout",
     "output_type": "stream",
     "text": [
      "Enter the length from the center to a vertex :5.5\n",
      "The area of the pentagon is  108.52\n"
     ]
    }
   ],
   "source": [
    "import math\n",
    "\n",
    "# Prompt user for input radius of pentagon\n",
    "radius = eval(input(\"Enter the length from the center to a vertex :\"))\n",
    "\n",
    "# Create PI variabel\n",
    "PI = 3.14\n",
    "\n",
    "# Compute a side of pentagon\n",
    "side = 2 * radius * math.sin(PI / 5)\n",
    "\n",
    "# Compute area a pentagon\n",
    "area = ((3 * pow(3, 0.5)) / 2) * pow(side, 2)\n",
    "\n",
    "# Printout the result\n",
    "print(\"The area of the pentagon is \", format(area, \".2f\"))"
   ]
  },
  {
   "cell_type": "markdown",
   "metadata": {},
   "source": [
    "Great Circle Distance"
   ]
  },
  {
   "cell_type": "code",
   "execution_count": 13,
   "metadata": {},
   "outputs": [
    {
     "name": "stdout",
     "output_type": "stream",
     "text": [
      "Enter point 1 'latitude and longitude' in degrees: 39.55, -116.25\n",
      "Enter point 2 'latitude and longitude' in degrees: 41.5, 87.37\n",
      "Circle distance is :  272.56901816965194\n"
     ]
    }
   ],
   "source": [
    "import math\n",
    "\n",
    "# Prompt user for input coordinate\n",
    "x1, y1 = eval(input(\"Enter point 1 'latitude and longitude' in degrees: \"))\n",
    "x2, y2 = eval(input(\"Enter point 2 'latitude and longitude' in degrees: \"))\n",
    "\n",
    "# Variabel\n",
    "radius = 6371.01\n",
    "\n",
    "# Compute great circle\n",
    "d = radius * math.acos(math.sin(x1) * math.sin(x2) + math.cos(x1) * math.cos(x2) * math.cos(y1 - y2))\n",
    "\n",
    "# Convert circley1 \n",
    "distance = math.radians(d)\n",
    "\n",
    "print(\"Circle distance is : \", distance)\n",
    "\n"
   ]
  },
  {
   "cell_type": "markdown",
   "metadata": {},
   "source": [
    "Area Pentagon"
   ]
  },
  {
   "cell_type": "code",
   "execution_count": 20,
   "metadata": {},
   "outputs": [
    {
     "name": "stdout",
     "output_type": "stream",
     "text": [
      "Enter the side : 5.5\n",
      "151.25\n",
      "2.904223875840706\n",
      "The area is  52.07931842245343\n"
     ]
    }
   ],
   "source": [
    "import math\n",
    "\n",
    "side = eval(input(\"Enter the side : \"))\n",
    "\n",
    "# Variabel\n",
    "PI = 3.14\n",
    "\n",
    "# Formula for computing\n",
    "a = 5 * pow(side, 2)\n",
    "b = 4 * math.tan(PI / 5)\n",
    "\n",
    "area = a / b\n",
    "\n",
    "# Printout\n",
    "print(a)\n",
    "print(b)\n",
    "print(\"The area is \", area)\n"
   ]
  },
  {
   "cell_type": "markdown",
   "metadata": {},
   "source": [
    "Area of a regular polygon"
   ]
  },
  {
   "cell_type": "code",
   "execution_count": 22,
   "metadata": {},
   "outputs": [
    {
     "name": "stdout",
     "output_type": "stream",
     "text": [
      " Enter the number of sides : 5\n",
      "Enter the side : 6.5\n",
      "The area of the polygon is :  72.73888275532752\n"
     ]
    }
   ],
   "source": [
    "import math\n",
    "\n",
    "numberSide = eval(input(\" Enter the number of sides : \"))\n",
    "side = eval(input(\"Enter the side : \"))\n",
    "\n",
    "# Variabel\n",
    "PI = 3.14\n",
    "\n",
    "# Formula for computing\n",
    "a = numberSide * pow(side, 2)\n",
    "b = 4 * math.tan(PI / numberSide )\n",
    "\n",
    "area = a / b\n",
    "\n",
    "print(\"The area of the polygon is : \", area)\n"
   ]
  },
  {
   "cell_type": "markdown",
   "metadata": {},
   "source": [
    "Character of ASCII Code"
   ]
  },
  {
   "cell_type": "code",
   "execution_count": 28,
   "metadata": {},
   "outputs": [
    {
     "name": "stdout",
     "output_type": "stream",
     "text": [
      "Enter ASCII Code : 69\n"
     ]
    },
    {
     "data": {
      "text/plain": [
       "'E'"
      ]
     },
     "execution_count": 28,
     "metadata": {},
     "output_type": "execute_result"
    }
   ],
   "source": [
    "asciCode = eval(input(\"Enter ASCII Code : \"))\n",
    "\n",
    "# Compute ASCII Code\n",
    "chr(asciCode)"
   ]
  },
  {
   "cell_type": "code",
   "execution_count": null,
   "metadata": {},
   "outputs": [],
   "source": []
  }
 ],
 "metadata": {
  "kernelspec": {
   "display_name": "Python 3",
   "language": "python",
   "name": "python3"
  },
  "language_info": {
   "codemirror_mode": {
    "name": "ipython",
    "version": 3
   },
   "file_extension": ".py",
   "mimetype": "text/x-python",
   "name": "python",
   "nbconvert_exporter": "python",
   "pygments_lexer": "ipython3",
   "version": "3.7.4"
  }
 },
 "nbformat": 4,
 "nbformat_minor": 2
}
