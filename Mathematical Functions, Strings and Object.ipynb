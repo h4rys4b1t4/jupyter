{
 "cells": [
  {
   "cell_type": "markdown",
   "metadata": {},
   "source": [
    "Common python function"
   ]
  },
  {
   "cell_type": "code",
   "execution_count": 1,
   "metadata": {},
   "outputs": [
    {
     "data": {
      "text/plain": [
       "3"
      ]
     },
     "execution_count": 1,
     "metadata": {},
     "output_type": "execute_result"
    }
   ],
   "source": [
    "abs(-3)"
   ]
  },
  {
   "cell_type": "code",
   "execution_count": 2,
   "metadata": {},
   "outputs": [
    {
     "data": {
      "text/plain": [
       "3.5"
      ]
     },
     "execution_count": 2,
     "metadata": {},
     "output_type": "execute_result"
    }
   ],
   "source": [
    "abs(-3.5)"
   ]
  },
  {
   "cell_type": "code",
   "execution_count": 3,
   "metadata": {},
   "outputs": [
    {
     "data": {
      "text/plain": [
       "6"
      ]
     },
     "execution_count": 3,
     "metadata": {},
     "output_type": "execute_result"
    }
   ],
   "source": [
    "max(2, 3, 4, 6)"
   ]
  },
  {
   "cell_type": "code",
   "execution_count": 4,
   "metadata": {},
   "outputs": [
    {
     "data": {
      "text/plain": [
       "8"
      ]
     },
     "execution_count": 4,
     "metadata": {},
     "output_type": "execute_result"
    }
   ],
   "source": [
    "pow(2, 3)"
   ]
  },
  {
   "cell_type": "code",
   "execution_count": 5,
   "metadata": {},
   "outputs": [
    {
     "data": {
      "text/plain": [
       "24.705294220065465"
      ]
     },
     "execution_count": 5,
     "metadata": {},
     "output_type": "execute_result"
    }
   ],
   "source": [
    "pow(2.5, 3.5)"
   ]
  },
  {
   "cell_type": "code",
   "execution_count": 6,
   "metadata": {},
   "outputs": [
    {
     "data": {
      "text/plain": [
       "4"
      ]
     },
     "execution_count": 6,
     "metadata": {},
     "output_type": "execute_result"
    }
   ],
   "source": [
    "round(3.51)"
   ]
  },
  {
   "cell_type": "code",
   "execution_count": 7,
   "metadata": {},
   "outputs": [
    {
     "data": {
      "text/plain": [
       "3"
      ]
     },
     "execution_count": 7,
     "metadata": {},
     "output_type": "execute_result"
    }
   ],
   "source": [
    "round(3.41)"
   ]
  },
  {
   "cell_type": "markdown",
   "metadata": {},
   "source": [
    "Listing 3.1 MathFunctions"
   ]
  },
  {
   "cell_type": "code",
   "execution_count": 5,
   "metadata": {},
   "outputs": [
    {
     "name": "stdout",
     "output_type": "stream",
     "text": [
      "exp(1.0) = 2.718281828459045\n",
      "log(2.78) = 1.0\n",
      "log10(10, 10) = 1.0\n"
     ]
    }
   ],
   "source": [
    "import math # Import math module to use the math functions\n",
    "\n",
    "# Test algebraic functions\n",
    "print(\"exp(1.0) =\", math.exp(1))\n",
    "print(\"log(2.78) =\", math.log(math.e))\n",
    "print(\"log10(10, 10) =\", math.log(10, 10))"
   ]
  },
  {
   "cell_type": "markdown",
   "metadata": {},
   "source": [
    "ComputeAngles"
   ]
  },
  {
   "cell_type": "code",
   "execution_count": 7,
   "metadata": {},
   "outputs": [
    {
     "name": "stdout",
     "output_type": "stream",
     "text": [
      "Enter six coordiante separated by comma, like x1, y1, x2, y2, x3, y3 :1,1, 6.5, 1, 6.5, 2.5\n",
      "The three angles are  15.26 90.0 74.74\n"
     ]
    }
   ],
   "source": [
    "import math\n",
    "\n",
    "x1, y1, x2, y2, x3, y3 = eval(input(\"Enter six coordiante separated by comma, like x1, y1, x2, y2, x3, y3 :\"))\n",
    "\n",
    "# Compute site                                    \n",
    "sideA = math.sqrt((x3 - x2) * (x3 - x2) + (y3 - y2) * (y3 - y2))\n",
    "sideB = math.sqrt((x3 - x1) * (x3 - x1) + (y3 - y1) * (y3 - y2))\n",
    "sideC = math.sqrt((x2 - x1) * (x2 - x1) + (y2 - y1) * (y2 - y1))\n",
    "\n",
    "# Compute angles\n",
    "angelesA = math.degrees(math.acos((sideA * sideA - sideB * sideB - sideC * sideC) / (-2 * sideB * sideC))) \n",
    "angelesB = math.degrees(math.acos((sideB * sideB - sideA * sideA - sideC * sideC) / (-2 * sideA * sideC)))\n",
    "angelesC = math.degrees(math.acos((sideC * sideC - sideB * sideB - sideA * sideA) / (-2 * sideB * sideA)))\n",
    "\n",
    "# Printout the result\n",
    "print(\"The three angles are \", round(angelesA * 100) / 100, round(angelesB * 100) / 100, round(angelesC * 100) / 100)\n",
    "\n",
    "\n",
    "                        \n",
    "                                    "
   ]
  },
  {
   "cell_type": "markdown",
   "metadata": {},
   "source": [
    "Convert ASCI code"
   ]
  },
  {
   "cell_type": "code",
   "execution_count": 9,
   "metadata": {},
   "outputs": [
    {
     "name": "stdout",
     "output_type": "stream",
     "text": [
      "He said that \bJhon the program is easy to read\n"
     ]
    }
   ],
   "source": [
    "print(\"He said that \\bJhon the program is easy to read\")"
   ]
  },
  {
   "cell_type": "markdown",
   "metadata": {},
   "source": [
    "Print without the newline"
   ]
  },
  {
   "cell_type": "code",
   "execution_count": 4,
   "metadata": {},
   "outputs": [
    {
     "name": "stdout",
     "output_type": "stream",
     "text": [
      "AAA BBBCCC***DDD***"
     ]
    }
   ],
   "source": [
    "print(\"AAA\", end = ' ')\n",
    "print(\"BBB\", end = '')\n",
    "print(\"CCC\", end = '***')\n",
    "print(\"DDD\", end = '***')"
   ]
  },
  {
   "cell_type": "code",
   "execution_count": 7,
   "metadata": {},
   "outputs": [
    {
     "name": "stdout",
     "output_type": "stream",
     "text": [
      "The area is 28.26 and the perimeter is  6\n"
     ]
    }
   ],
   "source": [
    "radius = 3\n",
    "PI = 3.14\n",
    "print(\"The area is\", radius * radius * PI , end = ' ')\n",
    "print(\"and the perimeter is \", 2 * radius)"
   ]
  },
  {
   "cell_type": "markdown",
   "metadata": {},
   "source": [
    "The str function"
   ]
  },
  {
   "cell_type": "code",
   "execution_count": 11,
   "metadata": {},
   "outputs": [
    {
     "data": {
      "text/plain": [
       "'3.4'"
      ]
     },
     "execution_count": 11,
     "metadata": {},
     "output_type": "execute_result"
    }
   ],
   "source": [
    "s = str(3.4)\n",
    "s"
   ]
  },
  {
   "cell_type": "code",
   "execution_count": 12,
   "metadata": {},
   "outputs": [
    {
     "data": {
      "text/plain": [
       "'3'"
      ]
     },
     "execution_count": 12,
     "metadata": {},
     "output_type": "execute_result"
    }
   ],
   "source": [
    "s = str(3)\n",
    "s"
   ]
  },
  {
   "cell_type": "markdown",
   "metadata": {},
   "source": [
    "The String Concatenation Operator"
   ]
  },
  {
   "cell_type": "code",
   "execution_count": 16,
   "metadata": {},
   "outputs": [
    {
     "data": {
      "text/plain": [
       "'Welcome to Python'"
      ]
     },
     "execution_count": 16,
     "metadata": {},
     "output_type": "execute_result"
    }
   ],
   "source": [
    "message = \"Welcome \" + \"to \" + \"Python\"\n",
    "message"
   ]
  },
  {
   "cell_type": "code",
   "execution_count": 17,
   "metadata": {},
   "outputs": [
    {
     "data": {
      "text/plain": [
       "'Chapter 3'"
      ]
     },
     "execution_count": 17,
     "metadata": {},
     "output_type": "execute_result"
    }
   ],
   "source": [
    "chapterNo = 3\n",
    "s = \"Chapter \" + str(chapterNo)\n",
    "s"
   ]
  },
  {
   "cell_type": "markdown",
   "metadata": {},
   "source": [
    "Reading String from the Console"
   ]
  },
  {
   "cell_type": "code",
   "execution_count": 21,
   "metadata": {},
   "outputs": [
    {
     "name": "stdout",
     "output_type": "stream",
     "text": [
      "Enter a string : Saya lagi\n",
      "Enter a string : belajar\n",
      "Enter a string : python\n",
      "Kalimat diatas menjadi : Saya lagi belajar python\n"
     ]
    }
   ],
   "source": [
    "s1 = input(\"Enter a string : \")\n",
    "s2 = input(\"Enter a string : \")\n",
    "s3 = input(\"Enter a string : \")\n",
    "\n",
    "print(\"Kalimat diatas menjadi : \" + s1 + \" \" + s2 + \" \" + s3)"
   ]
  },
  {
   "cell_type": "markdown",
   "metadata": {},
   "source": [
    "Study Case : ComputeChange"
   ]
  },
  {
   "cell_type": "code",
   "execution_count": 22,
   "metadata": {},
   "outputs": [
    {
     "name": "stdout",
     "output_type": "stream",
     "text": [
      "Enter an amount, for example , 11.56 :11.56\n",
      "Your amount  11.56 Consists of\n",
      " \t 11 Dollars\n",
      " \t 2 quarter\n",
      " \t 0 dimes\n",
      " \t 1 nickels\n",
      " \t 1 pennies\n"
     ]
    }
   ],
   "source": [
    "# Receive the amount\n",
    "amount = eval(input(\"Enter an amount, for example , 11.56 :\"))\n",
    "\n",
    "# Convert the amount to cents\n",
    "remainingAmount = int(amount * 100)\n",
    "\n",
    "# Find the number of one dollars\n",
    "numberOfOneDollars = remainingAmount // 100               # dollars\n",
    "remainingAmount = remainingAmount % 100\n",
    "\n",
    "# Find the number of quarters in the remaining amount\n",
    "numberOfQuarters = remainingAmount // 25                  # quarters\n",
    "remainingAmount = remainingAmount % 25\n",
    "\n",
    "# Find the number of dimes in the remaining amount\n",
    "numberOfDimes = remainingAmount // 10                     # dimes\n",
    "remainingAmount = remainingAmount % 10\n",
    "\n",
    "# Find the number of nickels in the remaining amount\n",
    "numberOfNickels = remainingAmount // 5                    # nickels\n",
    "remainingAmount = remainingAmount % 5\n",
    "\n",
    "# Find the number of pennies in the remaining amount\n",
    "numberOfPennies = remainingAmount                         # pennies\n",
    "\n",
    "# Display the result\n",
    "print(\"Your amount \", amount, \"Consists of\\n\",\n",
    "     \"\\t\", numberOfOneDollars, \"Dollars\\n\",\n",
    "     \"\\t\", numberOfQuarters, \"quarter\\n\",\n",
    "     \"\\t\", numberOfDimes, \"dimes\\n\",\n",
    "     \"\\t\", numberOfNickels, \"nickels\\n\",\n",
    "     \"\\t\", numberOfPennies, \"pennies\")"
   ]
  },
  {
   "cell_type": "markdown",
   "metadata": {},
   "source": [
    "Object and Methods"
   ]
  },
  {
   "cell_type": "code",
   "execution_count": 30,
   "metadata": {},
   "outputs": [
    {
     "data": {
      "text/plain": [
       "95832240"
      ]
     },
     "execution_count": 30,
     "metadata": {},
     "output_type": "execute_result"
    }
   ],
   "source": [
    "f = 8.7\n",
    "id(f)"
   ]
  },
  {
   "cell_type": "code",
   "execution_count": 28,
   "metadata": {},
   "outputs": [
    {
     "data": {
      "text/plain": [
       "float"
      ]
     },
     "execution_count": 28,
     "metadata": {},
     "output_type": "execute_result"
    }
   ],
   "source": [
    "n = 3.7\n",
    "type(n)"
   ]
  },
  {
   "cell_type": "code",
   "execution_count": 32,
   "metadata": {},
   "outputs": [
    {
     "data": {
      "text/plain": [
       "'welcome'"
      ]
     },
     "execution_count": 32,
     "metadata": {},
     "output_type": "execute_result"
    }
   ],
   "source": [
    "s = \"\\t Welcome \\n\""
   ]
  },
  {
   "cell_type": "code",
   "execution_count": 34,
   "metadata": {},
   "outputs": [
    {
     "data": {
      "text/plain": [
       "'welcome'"
      ]
     },
     "execution_count": 34,
     "metadata": {},
     "output_type": "execute_result"
    }
   ],
   "source": [
    "s1 = s.lower()\n",
    "s1"
   ]
  },
  {
   "cell_type": "code",
   "execution_count": 33,
   "metadata": {},
   "outputs": [
    {
     "data": {
      "text/plain": [
       "'WELCOME'"
      ]
     },
     "execution_count": 33,
     "metadata": {},
     "output_type": "execute_result"
    }
   ],
   "source": [
    "s1 = s.upper()\n",
    "s1"
   ]
  },
  {
   "cell_type": "code",
   "execution_count": 35,
   "metadata": {},
   "outputs": [
    {
     "data": {
      "text/plain": [
       "'Welcome'"
      ]
     },
     "execution_count": 35,
     "metadata": {},
     "output_type": "execute_result"
    }
   ],
   "source": [
    "s1 = s.strip()\n",
    "s1"
   ]
  },
  {
   "cell_type": "markdown",
   "metadata": {},
   "source": [
    "Formatting Number"
   ]
  },
  {
   "cell_type": "code",
   "execution_count": 38,
   "metadata": {},
   "outputs": [
    {
     "name": "stdout",
     "output_type": "stream",
     "text": [
      "Interest is  16.404674\n"
     ]
    }
   ],
   "source": [
    "amount = 12618.98\n",
    "interestRate = 0.0013\n",
    "interest = amount * interestRate"
   ]
  },
  {
   "cell_type": "code",
   "execution_count": 40,
   "metadata": {},
   "outputs": [
    {
     "name": "stdout",
     "output_type": "stream",
     "text": [
      "Interest is  16.40\n"
     ]
    }
   ],
   "source": [
    "print(\"Interest is \", format(interest, \".2f\"))"
   ]
  },
  {
   "cell_type": "markdown",
   "metadata": {},
   "source": [
    "Format integer"
   ]
  },
  {
   "cell_type": "code",
   "execution_count": 64,
   "metadata": {},
   "outputs": [
    {
     "name": "stdout",
     "output_type": "stream",
     "text": [
      "      e9b8\n"
     ]
    }
   ],
   "source": [
    "print(format(59832, \"10x\"))"
   ]
  },
  {
   "cell_type": "markdown",
   "metadata": {},
   "source": [
    "Formatting String"
   ]
  },
  {
   "cell_type": "code",
   "execution_count": 71,
   "metadata": {},
   "outputs": [
    {
     "name": "stdout",
     "output_type": "stream",
     "text": [
      "Welcome to Python and Java\n"
     ]
    }
   ],
   "source": [
    "print(format(\"Welcome to Python and Java\", \">20s\"))"
   ]
  },
  {
   "cell_type": "markdown",
   "metadata": {},
   "source": [
    "Drawing Various Shapes"
   ]
  },
  {
   "cell_type": "code",
   "execution_count": 10,
   "metadata": {},
   "outputs": [],
   "source": [
    "import turtle\n",
    "\n",
    "turtle.pensize(3)\n",
    "turtle.penup()\n",
    "turtle.goto(-200, -50)\n",
    "turtle.pendown()\n",
    "turtle.speed(1)\n",
    "turtle.circle(40, steps = 4)\n",
    "\n",
    "turtle.done()"
   ]
  },
  {
   "cell_type": "markdown",
   "metadata": {},
   "source": [
    "Drawing with Color and Font"
   ]
  },
  {
   "cell_type": "code",
   "execution_count": null,
   "metadata": {},
   "outputs": [],
   "source": [
    "import turtle\n",
    "\n",
    "turtle.pensize(3)\n",
    "turtle.penup()\n",
    "turtle.goto(-200, -50)\n",
    "turtle.pendown()\n",
    "turtle.speed(1)\n",
    "turtle.begin_fill()\n",
    "turtle.color(\"red\")\n",
    "turtle.circle(40, steps = 3)\n",
    "turtle.end_fill()\n",
    "\n",
    "turtle.penup()\n",
    "turtle.goto(-100, -50)\n",
    "turtle.pendown()\n",
    "turtle.speed(1)\n",
    "turtle.begin_fill()\n",
    "turtle.color(\"blue\")\n",
    "turtle.circle(40, steps = 4)\n",
    "turtle.end_fill()\n",
    "\n",
    "turtle.done()"
   ]
  },
  {
   "cell_type": "markdown",
   "metadata": {},
   "source": [
    "List function"
   ]
  },
  {
   "cell_type": "code",
   "execution_count": 32,
   "metadata": {},
   "outputs": [
    {
     "name": "stdout",
     "output_type": "stream",
     "text": [
      "['Kevin', 'Juno', 'Anton', 'Doni', 'Anton']\n"
     ]
    }
   ],
   "source": [
    "listNumber = [1, 48, 36, 28, 3, 17]\n",
    "friends = [\"Kevin\", \"Juno\", \"Anton\", \"Doni\", \"Anton\"]\n",
    "friends2 = friends.copy()\n",
    "\n",
    "print(friends2)"
   ]
  },
  {
   "cell_type": "markdown",
   "metadata": {},
   "source": [
    "tuples"
   ]
  },
  {
   "cell_type": "code",
   "execution_count": 34,
   "metadata": {},
   "outputs": [
    {
     "name": "stdout",
     "output_type": "stream",
     "text": [
      "4\n"
     ]
    }
   ],
   "source": [
    "coordinates = (4, 5)\n",
    "\n",
    "print(coordinates[0])"
   ]
  },
  {
   "cell_type": "markdown",
   "metadata": {},
   "source": [
    "Function"
   ]
  },
  {
   "cell_type": "code",
   "execution_count": 43,
   "metadata": {},
   "outputs": [
    {
     "name": "stdout",
     "output_type": "stream",
     "text": [
      "Hallo Mieke you are 35\n",
      "Hallo Daniel you are 40\n"
     ]
    }
   ],
   "source": [
    "def sayhi(name, age):\n",
    "    print(\"Hallo \" + name + \" you are \" + str(age))\n",
    "\n",
    "sayhi(\"Mieke\", 35)\n",
    "sayhi(\"Daniel\", 40)\n"
   ]
  },
  {
   "cell_type": "code",
   "execution_count": 45,
   "metadata": {},
   "outputs": [
    {
     "name": "stdout",
     "output_type": "stream",
     "text": [
      "Hallo Dona you are 45\n",
      "Hallo April you are 30\n"
     ]
    }
   ],
   "source": [
    "def saihy(name, age):\n",
    "    print(\"Hallo \" + name + \" you are \" + age)\n",
    "\n",
    "saihy(\"Dona\", \"45\")\n",
    "saihy(\"April\", \"30\")"
   ]
  },
  {
   "cell_type": "markdown",
   "metadata": {},
   "source": [
    "Return Statement"
   ]
  },
  {
   "cell_type": "code",
   "execution_count": 54,
   "metadata": {},
   "outputs": [
    {
     "name": "stdout",
     "output_type": "stream",
     "text": [
      "64\n"
     ]
    }
   ],
   "source": [
    "def cube(num):\n",
    "    return num * num * num\n",
    "\n",
    "print(cube(4))\n"
   ]
  },
  {
   "cell_type": "code",
   "execution_count": 55,
   "metadata": {},
   "outputs": [
    {
     "name": "stdout",
     "output_type": "stream",
     "text": [
      "64\n"
     ]
    }
   ],
   "source": [
    "result = cube(4)\n",
    "\n",
    "print(result)"
   ]
  },
  {
   "cell_type": "markdown",
   "metadata": {},
   "source": [
    "If Statement"
   ]
  },
  {
   "cell_type": "code",
   "execution_count": 60,
   "metadata": {},
   "outputs": [
    {
     "name": "stdout",
     "output_type": "stream",
     "text": [
      "You are not a male\n"
     ]
    }
   ],
   "source": [
    "isMale = False\n",
    "isTall = False\n",
    "\n",
    "if isMale or isTall :\n",
    "    print(\"You are a male or tall or both\")\n",
    "\n",
    "else :\n",
    "    print(\"You are not a male\")"
   ]
  },
  {
   "cell_type": "code",
   "execution_count": 63,
   "metadata": {},
   "outputs": [
    {
     "name": "stdout",
     "output_type": "stream",
     "text": [
      "300\n"
     ]
    }
   ],
   "source": [
    "def numMax(num1, num2, num3) :\n",
    "    if num1 >= num2 and num1 >= num3 :\n",
    "        return num1\n",
    "    \n",
    "    elif num2 >= num1 and num2 >= num3 :\n",
    "        return num2\n",
    "    \n",
    "    else :\n",
    "        return num3\n",
    "    \n",
    "print(numMax(300, 40, 5))"
   ]
  },
  {
   "cell_type": "code",
   "execution_count": 69,
   "metadata": {},
   "outputs": [
    {
     "name": "stdout",
     "output_type": "stream",
     "text": [
      "Enter number 1 :4\n",
      "Enter operator : ()\n",
      "Enter number 2 :4\n",
      "Operator not valid\n"
     ]
    }
   ],
   "source": [
    "num1 = float(input(\"Enter number 1 :\"))\n",
    "op = input(\"Enter operator : \")\n",
    "num2 = float(input(\"Enter number 2 :\"))\n",
    "\n",
    "if op == \"+\" :\n",
    "    print(num1 + num2)\n",
    "\n",
    "elif op == \"-\" :\n",
    "    print(num1 - num2)\n",
    "\n",
    "elif op == \"*\" :\n",
    "    print(num1 * num2)\n",
    "    \n",
    "elif op == \"/\" :\n",
    "    print(num1 / num2)\n",
    "    \n",
    "else :\n",
    "    print(\"Operator not valid\")\n",
    "    \n",
    "    \n"
   ]
  },
  {
   "cell_type": "code",
   "execution_count": 76,
   "metadata": {},
   "outputs": [
    {
     "name": "stdout",
     "output_type": "stream",
     "text": [
      "None\n"
     ]
    }
   ],
   "source": [
    "dayConversion = {\n",
    "    1: \"Sunday\",\n",
    "    2: \"Monday\",\n",
    "    3: \"Thursday\",\n",
    "    4: \"Wednesday\",\n",
    "    5: \"Tuesday\",\n",
    "    6: \"Friday\",\n",
    "    7: \"Saturday\"\n",
    "}\n",
    "print(dayConversion.get(9))"
   ]
  },
  {
   "cell_type": "markdown",
   "metadata": {},
   "source": [
    "Looping with \"While\"\n"
   ]
  },
  {
   "cell_type": "code",
   "execution_count": 78,
   "metadata": {},
   "outputs": [
    {
     "name": "stdout",
     "output_type": "stream",
     "text": [
      "1\n",
      "2\n",
      "3\n",
      "4\n",
      "5\n",
      "6\n",
      "7\n",
      "8\n",
      "9\n",
      "10\n",
      "Done with looping\n"
     ]
    }
   ],
   "source": [
    "i = 1\n",
    "\n",
    "while i <= 10 :\n",
    "    print(i)\n",
    "    i += 1\n",
    "    \n",
    "print(\"Done with looping\")"
   ]
  },
  {
   "cell_type": "code",
   "execution_count": 6,
   "metadata": {},
   "outputs": [
    {
     "name": "stdout",
     "output_type": "stream",
     "text": [
      "Enter guess : sfd\n",
      "Enter guess : asfds\n",
      "Enter guess : giraffe\n",
      "Correct !\n"
     ]
    }
   ],
   "source": [
    "secretWord = \"giraffe\"\n",
    "guess = \"\"\n",
    "guessCount = 0\n",
    "guessLimited = 3\n",
    "outOfGuesses = False\n",
    "\n",
    "while guess != secretWord and not outOfGuesses :\n",
    "    if guessCount < guessLimited :\n",
    "        guess = input(\"Enter guess : \")\n",
    "        guessCount += 1\n",
    "        \n",
    "    else :\n",
    "        outOfGuesses = True\n",
    "        \n",
    "if outOfGuesses :\n",
    "    print(\"You lose the game !\")\n",
    "    \n",
    "else :\n",
    "    print(\"Correct !\")\n",
    "    \n"
   ]
  },
  {
   "cell_type": "markdown",
   "metadata": {},
   "source": [
    "Looping with \"For\""
   ]
  },
  {
   "cell_type": "code",
   "execution_count": 7,
   "metadata": {},
   "outputs": [
    {
     "name": "stdout",
     "output_type": "stream",
     "text": [
      "G\n",
      "i\n",
      "r\n",
      "a\n",
      "f\n",
      "f\n",
      "e\n",
      " \n",
      "A\n",
      "c\n",
      "a\n",
      "d\n",
      "e\n",
      "m\n",
      "y\n"
     ]
    }
   ],
   "source": [
    "for letter in \"Giraffe Academy\" :\n",
    "    print(letter)\n"
   ]
  },
  {
   "cell_type": "code",
   "execution_count": 10,
   "metadata": {},
   "outputs": [
    {
     "name": "stdout",
     "output_type": "stream",
     "text": [
      "Jim\n",
      "Kirey\n",
      "John\n"
     ]
    }
   ],
   "source": [
    "friends = [\"Jim\", \"Kirey\", \"John\"]\n",
    "\n",
    "for name in friends :\n",
    "    print(name)"
   ]
  },
  {
   "cell_type": "code",
   "execution_count": 12,
   "metadata": {},
   "outputs": [
    {
     "name": "stdout",
     "output_type": "stream",
     "text": [
      "3\n",
      "4\n",
      "5\n",
      "6\n",
      "7\n",
      "8\n",
      "9\n"
     ]
    }
   ],
   "source": [
    "for index in range(3, 10) :\n",
    "    print(index)"
   ]
  },
  {
   "cell_type": "code",
   "execution_count": 13,
   "metadata": {},
   "outputs": [
    {
     "name": "stdout",
     "output_type": "stream",
     "text": [
      "Jim\n",
      "Kirey\n",
      "John\n"
     ]
    }
   ],
   "source": [
    "for index in range(len(friends)) :\n",
    "    print(friends[index])"
   ]
  },
  {
   "cell_type": "code",
   "execution_count": null,
   "metadata": {},
   "outputs": [],
   "source": [
    "\n",
    "True:\n",
    "    a = 10\n",
    "else:\n",
    "    a = 5\n",
    "    \n",
    "a = 10 if True else 5"
   ]
  }
 ],
 "metadata": {
  "kernelspec": {
   "display_name": "Python 3",
   "language": "python",
   "name": "python3"
  },
  "language_info": {
   "codemirror_mode": {
    "name": "ipython",
    "version": 3
   },
   "file_extension": ".py",
   "mimetype": "text/x-python",
   "name": "python",
   "nbconvert_exporter": "python",
   "pygments_lexer": "ipython3",
   "version": "3.7.4"
  }
 },
 "nbformat": 4,
 "nbformat_minor": 2
}
