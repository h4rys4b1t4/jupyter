{
 "cells": [
  {
   "cell_type": "markdown",
   "metadata": {},
   "source": [
    "Print a table"
   ]
  },
  {
   "cell_type": "code",
   "execution_count": 1,
   "metadata": {},
   "outputs": [
    {
     "name": "stdout",
     "output_type": "stream",
     "text": [
      "a       b      a ** b\n",
      "1       2      1\n",
      "2       3      8\n",
      "3       4      81\n",
      "4       5      1024\n",
      "5       6      15625\n"
     ]
    }
   ],
   "source": [
    "### Create heading of table\n",
    "print(\"a       b      a ** b\")\n",
    "\n",
    "# Create base of table\n",
    "print(1 ,\"     \",2 ,\"    \", 1)\n",
    "print(2 ,\"     \",3 ,\"    \", 8)\n",
    "print(3 ,\"     \",4 ,\"    \", 81)\n",
    "print(4 ,\"     \",5 ,\"    \", 1024)\n",
    "print(5 ,\"     \",6 ,\"    \", 15625)"
   ]
  },
  {
   "cell_type": "markdown",
   "metadata": {},
   "source": [
    "Split Digits"
   ]
  },
  {
   "cell_type": "code",
   "execution_count": 9,
   "metadata": {},
   "outputs": [
    {
     "name": "stdout",
     "output_type": "stream",
     "text": [
      "Enter an integer : 3125\n",
      "3\n",
      "1\n",
      "2\n",
      "5\n"
     ]
    }
   ],
   "source": [
    "# Promt user for enter digits\n",
    "integer = eval(input(\"Enter an integer : \"))\n",
    "\n",
    "#  Compute the integer\n",
    "integer1 = integer // 1000\n",
    "integerTemp2 = integer // 100\n",
    "integer2 = integerTemp2 % 10\n",
    "integerTemp3 = integer // 10\n",
    "integer3 = integerTemp3 % 10\n",
    "integer4 = integer % 10\n",
    "\n",
    "# Printout integer 1\n",
    "print(integer1)\n",
    "print(integer2)\n",
    "print(integer3)\n",
    "print(integer4)"
   ]
  },
  {
   "cell_type": "markdown",
   "metadata": {},
   "source": [
    "Geometry : Area of a triangle"
   ]
  },
  {
   "cell_type": "code",
   "execution_count": null,
   "metadata": {},
   "outputs": [],
   "source": [
    "# Prompt the user for enter the three point\n",
    "x1, y1, x2, y2, x3, y3 = eval(input(\"Enter three points for a trianggle : \"))\n",
    "\n",
    "# Compute formula for each side\n",
    "side1 = (((x2 - x1) ** 2) + ((y2 - y1) ** 2)) ** 0.5\n",
    "side2 = (((x3 - x2) ** 2) + ((y3 - y2) ** 2)) ** 0.5\n",
    "\n",
    "\n",
    "# Compute formula for side\n",
    "side = (side1 + side2 + side3) / 2\n",
    "\n",
    "# Compute Area\n",
    "area = ((side * (side - side1) * (side - side2) * (side - side3)) ** 0.5)\n",
    "\n",
    "# Printout the each side result\n",
    "print(\"The side 1 is \", int(side1 * 100) / 100)\n",
    "print(\"The side 2 is \", int(side2 * 100) / 100)\n",
    "print(\"The side 3 is \", int(side3 * 100) / 100)\n",
    "\n",
    "# Printout the side\n",
    "print(\"The side is \", int(side * 100) / 100)\n",
    "\n",
    "# Printout the area\n",
    "print(\"The Area is \", int(area * 100) / 100)\n"
   ]
  },
  {
   "cell_type": "markdown",
   "metadata": {},
   "source": [
    "Draw a rectangle"
   ]
  },
  {
   "cell_type": "code",
   "execution_count": 1,
   "metadata": {},
   "outputs": [
    {
     "name": "stdout",
     "output_type": "stream",
     "text": [
      "Enter the center of rectangle : 0,0\n",
      "Enter the width : 200\n",
      "Enter the height : 300\n",
      "\n"
     ]
    }
   ],
   "source": [
    "import turtle\n",
    "\n",
    "# Create variable\n",
    "x1, y1 = -100, -150\n",
    "x2, y2 = 100, -150\n",
    "x3, y3 = 100, 150\n",
    "x4, y4 = -100, 150\n",
    "\n",
    "# Compute side\n",
    "sideAb = ((x2 - x1) ** 2 + (y2 - y1) ** 2) ** 0.5\n",
    "sideBc = ((x3 - x2) ** 2 + (y3 - y2) ** 2) ** 0.5\n",
    "sideCd = ((x4 - x3) ** 2 + (y4 - y3) ** 2) ** 0.5\n",
    "sideDa = ((x1 - x4) ** 2 + (y1 - y4) ** 2) ** 0.5\n",
    "\n",
    "\n",
    "# Prompt the use to enter the center of rectangle\n",
    "x0, y0 = eval(input(\"Enter the center of rectangle : \"))\n",
    "width = eval(input(\"Enter the width : \"))\n",
    "height = eval(input(\"Enter the height : \"))\n",
    "print(\"\")\n",
    "\n",
    "# Printout the result\n",
    "turtle.penup()\n",
    "turtle.goto(x1, y1)\n",
    "turtle.pendown()\n",
    "turtle.goto(x2, y2)\n",
    "turtle.goto(x3, y3)\n",
    "turtle.goto(x4, y4)\n",
    "turtle.goto(x1, y1)\n",
    "\n",
    "turtle.done()\n"
   ]
  },
  {
   "cell_type": "markdown",
   "metadata": {},
   "source": [
    "Draw a Circle"
   ]
  },
  {
   "cell_type": "code",
   "execution_count": 9,
   "metadata": {},
   "outputs": [
    {
     "name": "stdout",
     "output_type": "stream",
     "text": [
      "Enter center of circle : -50, 60\n",
      "Enter radius of circle : 70\n"
     ]
    }
   ],
   "source": [
    "import turtle\n",
    "\n",
    "# Prompt the user to enter the center of radius\n",
    "x1, y1 = eval(input(\"Enter center of circle : \"))\n",
    "radiusOfCircle = eval(input(\"Enter radius of circle : \"))\n",
    "PI = 3.14\n",
    "\n",
    "# Compute\n",
    "area = 2 * PI * radiusOfCircle ** 2\n",
    "\n",
    "# Create result\n",
    "turtle.penup()\n",
    "turtle.goto(x1, y1)\n",
    "turtle.pendown()\n",
    "turtle.circle(radiusOfCircle)\n",
    "turtle.penup()\n",
    "turtle.goto(x1, y1)\n",
    "turtle.write(area)\n",
    "\n",
    "turtle.done()"
   ]
  }
 ],
 "metadata": {
  "kernelspec": {
   "display_name": "Python 3",
   "language": "python",
   "name": "python3"
  },
  "language_info": {
   "codemirror_mode": {
    "name": "ipython",
    "version": 3
   },
   "file_extension": ".py",
   "mimetype": "text/x-python",
   "name": "python",
   "nbconvert_exporter": "python",
   "pygments_lexer": "ipython3",
   "version": "3.7.4"
  }
 },
 "nbformat": 4,
 "nbformat_minor": 2
}
